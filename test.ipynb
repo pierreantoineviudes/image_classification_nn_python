{
 "cells": [
  {
   "cell_type": "code",
   "execution_count": 13,
   "metadata": {},
   "outputs": [],
   "source": [
    "import numpy as np\n",
    "import pickle"
   ]
  },
  {
   "cell_type": "code",
   "execution_count": 19,
   "metadata": {},
   "outputs": [],
   "source": [
    "BATCH_PATH = './data/cifar-10-batches-py/data_batch_1'\n",
    "\n",
    "with open(BATCH_PATH, 'rb') as f:\n",
    "    d = pickle.load(f, encoding='bytes')\n",
    "    data = d[b\"data\"].astype(np.float32)\n",
    "    labels = np.array(d[b\"labels\"]).astype(np.int64)"
   ]
  },
  {
   "cell_type": "code",
   "execution_count": 20,
   "metadata": {},
   "outputs": [
    {
     "data": {
      "text/plain": [
       "array([[ 59.,  43.,  50., ..., 140.,  84.,  72.],\n",
       "       [154., 126., 105., ..., 139., 142., 144.],\n",
       "       [255., 253., 253., ...,  83.,  83.,  84.],\n",
       "       ...,\n",
       "       [ 71.,  60.,  74., ...,  68.,  69.,  68.],\n",
       "       [250., 254., 211., ..., 215., 255., 254.],\n",
       "       [ 62.,  61.,  60., ..., 130., 130., 131.]], dtype=float32)"
      ]
     },
     "execution_count": 20,
     "metadata": {},
     "output_type": "execute_result"
    }
   ],
   "source": [
    "data"
   ]
  },
  {
   "cell_type": "code",
   "execution_count": 21,
   "metadata": {},
   "outputs": [
    {
     "data": {
      "text/plain": [
       "array([6, 9, 9, ..., 1, 1, 5], dtype=int64)"
      ]
     },
     "execution_count": 21,
     "metadata": {},
     "output_type": "execute_result"
    }
   ],
   "source": [
    "labels"
   ]
  },
  {
   "cell_type": "code",
   "execution_count": null,
   "metadata": {},
   "outputs": [],
   "source": []
  }
 ],
 "metadata": {
  "kernelspec": {
   "display_name": ".venv",
   "language": "python",
   "name": "python3"
  },
  "language_info": {
   "codemirror_mode": {
    "name": "ipython",
    "version": 3
   },
   "file_extension": ".py",
   "mimetype": "text/x-python",
   "name": "python",
   "nbconvert_exporter": "python",
   "pygments_lexer": "ipython3",
   "version": "3.11.5"
  }
 },
 "nbformat": 4,
 "nbformat_minor": 2
}
